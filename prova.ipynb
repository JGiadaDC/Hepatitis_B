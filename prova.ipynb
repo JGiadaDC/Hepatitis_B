{
 "cells": [
  {
   "cell_type": "code",
   "execution_count": 3,
   "metadata": {},
   "outputs": [
    {
     "name": "stdout",
     "output_type": "stream",
     "text": [
      "RMSE for Chronic_percentage: 0.30052233672026496\n",
      "RMSE for Acute_percentage: 4.646412202336281\n"
     ]
    },
    {
     "data": {
      "text/plain": [
       "['label_encoder_age.pkl']"
      ]
     },
     "execution_count": 3,
     "metadata": {},
     "output_type": "execute_result"
    }
   ],
   "source": [
    "import pandas as pd\n",
    "import numpy as np\n",
    "import joblib\n",
    "from sklearn.ensemble import RandomForestRegressor\n",
    "from sklearn.preprocessing import LabelEncoder\n",
    "from sklearn.model_selection import train_test_split\n",
    "from sklearn.metrics import mean_squared_error\n",
    "\n",
    "# Load the dataset\n",
    "df = pd.read_csv(\"hepatitis_eda.csv\")\n",
    "\n",
    "# Feature selection and preprocessing\n",
    "label_encoder_country = LabelEncoder()\n",
    "df['Country'] = label_encoder_country.fit_transform(df['Country'])\n",
    "label_encoder_gender = LabelEncoder()\n",
    "df['Gender'] = label_encoder_gender.fit_transform(df['Gender'])\n",
    "label_encoder_age = LabelEncoder()\n",
    "df['Age'] = label_encoder_age.fit_transform(df['Age'])\n",
    "\n",
    "\n",
    "# Select features and targets\n",
    "X = df[['Country', 'Time', 'Gender', 'Age']]\n",
    "y_chronic = df['Chronic_percentage']  \n",
    "y_acute = df['Acute_percentage']  \n",
    "\n",
    "\n",
    "\n",
    "# Train-test split\n",
    "X_train, X_test, y_train_chronic, y_test_chronic = train_test_split(X, y_chronic, test_size=0.2, random_state=42)\n",
    "X_train, X_test, y_train_acute, y_test_acute = train_test_split(X, y_acute, test_size=0.2, random_state=42)\n",
    "\n",
    "# Create and train Random Forest model for Chronic_percentage\n",
    "rf_chronic = RandomForestRegressor(n_estimators=100, random_state=42)\n",
    "rf_chronic.fit(X_train, y_train_chronic)\n",
    "\n",
    "# Create and train Random Forest model for Acute_percentage\n",
    "rf_acute = RandomForestRegressor(n_estimators=100, random_state=42)\n",
    "rf_acute.fit(X_train, y_train_acute)\n",
    "\n",
    "\n",
    "# Evaluate models\n",
    "chronic_preds = rf_chronic.predict(X_test)\n",
    "acute_preds = rf_acute.predict(X_test)\n",
    "\n",
    "# Calculate root mean squared error (RMSE)\n",
    "rmse_chronic = np.sqrt(mean_squared_error(y_test_chronic, chronic_preds))\n",
    "rmse_acute = np.sqrt(mean_squared_error(y_test_acute, acute_preds))\n",
    "\n",
    "print(f'RMSE for Chronic_percentage: {rmse_chronic}')\n",
    "print(f'RMSE for Acute_percentage: {rmse_acute}')\n",
    "\n",
    "\n",
    "# Save models and encoders\n",
    "models = {\n",
    "    'chronic': rf_chronic,\n",
    "    'acute': rf_acute\n",
    "}\n",
    "\n",
    "# Salva il dizionario in un unico file\n",
    "joblib.dump(models, 'models_rf.pkl')\n",
    "\n",
    "joblib.dump(label_encoder_country, \"label_encoder_country.pkl\")\n",
    "joblib.dump(label_encoder_gender, \"label_encoder_gender.pkl\")\n",
    "joblib.dump(label_encoder_age, \"label_encoder_age.pkl\")\n",
    "\n",
    "\n"
   ]
  }
 ],
 "metadata": {
  "kernelspec": {
   "display_name": "Python 3",
   "language": "python",
   "name": "python3"
  },
  "language_info": {
   "codemirror_mode": {
    "name": "ipython",
    "version": 3
   },
   "file_extension": ".py",
   "mimetype": "text/x-python",
   "name": "python",
   "nbconvert_exporter": "python",
   "pygments_lexer": "ipython3",
   "version": "3.12.2"
  }
 },
 "nbformat": 4,
 "nbformat_minor": 2
}
