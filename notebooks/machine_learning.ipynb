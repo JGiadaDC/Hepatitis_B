{
 "cells": [
  {
   "cell_type": "code",
   "execution_count": 1,
   "metadata": {},
   "outputs": [
    {
     "name": "stderr",
     "output_type": "stream",
     "text": [
      "c:\\Users\\giada\\anaconda3\\Lib\\site-packages\\pandas\\core\\arrays\\masked.py:60: UserWarning: Pandas requires version '1.3.6' or newer of 'bottleneck' (version '1.3.5' currently installed).\n",
      "  from pandas.core import (\n"
     ]
    }
   ],
   "source": [
    "import pandas as pd\n",
    "from sklearn.model_selection import train_test_split\n",
    "from sklearn.compose import ColumnTransformer\n",
    "from sklearn.ensemble import RandomForestRegressor\n",
    "from sklearn.metrics import mean_squared_error\n",
    "from sklearn.preprocessing import LabelEncoder"
   ]
  },
  {
   "cell_type": "code",
   "execution_count": 2,
   "metadata": {},
   "outputs": [
    {
     "data": {
      "text/html": [
       "<div>\n",
       "<style scoped>\n",
       "    .dataframe tbody tr th:only-of-type {\n",
       "        vertical-align: middle;\n",
       "    }\n",
       "\n",
       "    .dataframe tbody tr th {\n",
       "        vertical-align: top;\n",
       "    }\n",
       "\n",
       "    .dataframe thead th {\n",
       "        text-align: right;\n",
       "    }\n",
       "</style>\n",
       "<table border=\"1\" class=\"dataframe\">\n",
       "  <thead>\n",
       "    <tr style=\"text-align: right;\">\n",
       "      <th></th>\n",
       "      <th>Unnamed: 0</th>\n",
       "      <th>Country</th>\n",
       "      <th>Time</th>\n",
       "      <th>Gender</th>\n",
       "      <th>Age</th>\n",
       "      <th>Chronic_percentage</th>\n",
       "      <th>Acute_percentage</th>\n",
       "    </tr>\n",
       "  </thead>\n",
       "  <tbody>\n",
       "    <tr>\n",
       "      <th>0</th>\n",
       "      <td>0</td>\n",
       "      <td>Austria</td>\n",
       "      <td>2008</td>\n",
       "      <td>Female</td>\n",
       "      <td>0-4</td>\n",
       "      <td>0.00</td>\n",
       "      <td>0.00</td>\n",
       "    </tr>\n",
       "    <tr>\n",
       "      <th>1</th>\n",
       "      <td>1</td>\n",
       "      <td>Austria</td>\n",
       "      <td>2008</td>\n",
       "      <td>Female</td>\n",
       "      <td>15-19</td>\n",
       "      <td>0.00</td>\n",
       "      <td>10.92</td>\n",
       "    </tr>\n",
       "    <tr>\n",
       "      <th>2</th>\n",
       "      <td>2</td>\n",
       "      <td>Austria</td>\n",
       "      <td>2008</td>\n",
       "      <td>Female</td>\n",
       "      <td>20-24</td>\n",
       "      <td>0.00</td>\n",
       "      <td>2.08</td>\n",
       "    </tr>\n",
       "    <tr>\n",
       "      <th>3</th>\n",
       "      <td>3</td>\n",
       "      <td>Austria</td>\n",
       "      <td>2008</td>\n",
       "      <td>Female</td>\n",
       "      <td>25-34</td>\n",
       "      <td>0.00</td>\n",
       "      <td>11.96</td>\n",
       "    </tr>\n",
       "    <tr>\n",
       "      <th>4</th>\n",
       "      <td>4</td>\n",
       "      <td>Austria</td>\n",
       "      <td>2008</td>\n",
       "      <td>Female</td>\n",
       "      <td>35-44</td>\n",
       "      <td>0.00</td>\n",
       "      <td>7.28</td>\n",
       "    </tr>\n",
       "    <tr>\n",
       "      <th>...</th>\n",
       "      <td>...</td>\n",
       "      <td>...</td>\n",
       "      <td>...</td>\n",
       "      <td>...</td>\n",
       "      <td>...</td>\n",
       "      <td>...</td>\n",
       "      <td>...</td>\n",
       "    </tr>\n",
       "    <tr>\n",
       "      <th>8203</th>\n",
       "      <td>9499</td>\n",
       "      <td>United Kingdom</td>\n",
       "      <td>2019</td>\n",
       "      <td>Male</td>\n",
       "      <td>35-44</td>\n",
       "      <td>1.53</td>\n",
       "      <td>11.59</td>\n",
       "    </tr>\n",
       "    <tr>\n",
       "      <th>8204</th>\n",
       "      <td>9500</td>\n",
       "      <td>United Kingdom</td>\n",
       "      <td>2019</td>\n",
       "      <td>Male</td>\n",
       "      <td>45-54</td>\n",
       "      <td>0.90</td>\n",
       "      <td>12.20</td>\n",
       "    </tr>\n",
       "    <tr>\n",
       "      <th>8205</th>\n",
       "      <td>9501</td>\n",
       "      <td>United Kingdom</td>\n",
       "      <td>2019</td>\n",
       "      <td>Male</td>\n",
       "      <td>5-14</td>\n",
       "      <td>0.00</td>\n",
       "      <td>0.00</td>\n",
       "    </tr>\n",
       "    <tr>\n",
       "      <th>8206</th>\n",
       "      <td>9502</td>\n",
       "      <td>United Kingdom</td>\n",
       "      <td>2019</td>\n",
       "      <td>Male</td>\n",
       "      <td>55-64</td>\n",
       "      <td>0.45</td>\n",
       "      <td>9.15</td>\n",
       "    </tr>\n",
       "    <tr>\n",
       "      <th>8207</th>\n",
       "      <td>9503</td>\n",
       "      <td>United Kingdom</td>\n",
       "      <td>2019</td>\n",
       "      <td>Male</td>\n",
       "      <td>65+</td>\n",
       "      <td>0.18</td>\n",
       "      <td>6.71</td>\n",
       "    </tr>\n",
       "  </tbody>\n",
       "</table>\n",
       "<p>8208 rows × 7 columns</p>\n",
       "</div>"
      ],
      "text/plain": [
       "      Unnamed: 0         Country  Time  Gender    Age  Chronic_percentage  \\\n",
       "0              0         Austria  2008  Female    0-4                0.00   \n",
       "1              1         Austria  2008  Female  15-19                0.00   \n",
       "2              2         Austria  2008  Female  20-24                0.00   \n",
       "3              3         Austria  2008  Female  25-34                0.00   \n",
       "4              4         Austria  2008  Female  35-44                0.00   \n",
       "...          ...             ...   ...     ...    ...                 ...   \n",
       "8203        9499  United Kingdom  2019    Male  35-44                1.53   \n",
       "8204        9500  United Kingdom  2019    Male  45-54                0.90   \n",
       "8205        9501  United Kingdom  2019    Male   5-14                0.00   \n",
       "8206        9502  United Kingdom  2019    Male  55-64                0.45   \n",
       "8207        9503  United Kingdom  2019    Male    65+                0.18   \n",
       "\n",
       "      Acute_percentage  \n",
       "0                 0.00  \n",
       "1                10.92  \n",
       "2                 2.08  \n",
       "3                11.96  \n",
       "4                 7.28  \n",
       "...                ...  \n",
       "8203             11.59  \n",
       "8204             12.20  \n",
       "8205              0.00  \n",
       "8206              9.15  \n",
       "8207              6.71  \n",
       "\n",
       "[8208 rows x 7 columns]"
      ]
     },
     "execution_count": 2,
     "metadata": {},
     "output_type": "execute_result"
    }
   ],
   "source": [
    "df = pd.read_csv(\"../data/Hepatitis_eda.csv\")\n",
    "df"
   ]
  },
  {
   "cell_type": "code",
   "execution_count": 3,
   "metadata": {},
   "outputs": [],
   "source": [
    "# imputing the missing values of chronic percentage for France\n",
    "from sklearn.impute import SimpleImputer\n",
    "\n",
    "imputer = SimpleImputer(strategy='mean')\n",
    "df['Chronic_percentage'] = imputer.fit_transform(df[['Chronic_percentage']])\n"
   ]
  },
  {
   "cell_type": "code",
   "execution_count": 4,
   "metadata": {},
   "outputs": [
    {
     "data": {
      "text/html": [
       "<div>\n",
       "<style scoped>\n",
       "    .dataframe tbody tr th:only-of-type {\n",
       "        vertical-align: middle;\n",
       "    }\n",
       "\n",
       "    .dataframe tbody tr th {\n",
       "        vertical-align: top;\n",
       "    }\n",
       "\n",
       "    .dataframe thead th {\n",
       "        text-align: right;\n",
       "    }\n",
       "</style>\n",
       "<table border=\"1\" class=\"dataframe\">\n",
       "  <thead>\n",
       "    <tr style=\"text-align: right;\">\n",
       "      <th></th>\n",
       "      <th>Unnamed: 0</th>\n",
       "      <th>Country</th>\n",
       "      <th>Time</th>\n",
       "      <th>Gender</th>\n",
       "      <th>Age</th>\n",
       "      <th>Chronic_percentage</th>\n",
       "      <th>Acute_percentage</th>\n",
       "    </tr>\n",
       "  </thead>\n",
       "  <tbody>\n",
       "    <tr>\n",
       "      <th>0</th>\n",
       "      <td>0</td>\n",
       "      <td>0</td>\n",
       "      <td>2008</td>\n",
       "      <td>0</td>\n",
       "      <td>0</td>\n",
       "      <td>0.0</td>\n",
       "      <td>0.00</td>\n",
       "    </tr>\n",
       "    <tr>\n",
       "      <th>1</th>\n",
       "      <td>1</td>\n",
       "      <td>0</td>\n",
       "      <td>2008</td>\n",
       "      <td>0</td>\n",
       "      <td>2</td>\n",
       "      <td>0.0</td>\n",
       "      <td>10.92</td>\n",
       "    </tr>\n",
       "    <tr>\n",
       "      <th>2</th>\n",
       "      <td>2</td>\n",
       "      <td>0</td>\n",
       "      <td>2008</td>\n",
       "      <td>0</td>\n",
       "      <td>3</td>\n",
       "      <td>0.0</td>\n",
       "      <td>2.08</td>\n",
       "    </tr>\n",
       "    <tr>\n",
       "      <th>3</th>\n",
       "      <td>3</td>\n",
       "      <td>0</td>\n",
       "      <td>2008</td>\n",
       "      <td>0</td>\n",
       "      <td>4</td>\n",
       "      <td>0.0</td>\n",
       "      <td>11.96</td>\n",
       "    </tr>\n",
       "    <tr>\n",
       "      <th>4</th>\n",
       "      <td>4</td>\n",
       "      <td>0</td>\n",
       "      <td>2008</td>\n",
       "      <td>0</td>\n",
       "      <td>5</td>\n",
       "      <td>0.0</td>\n",
       "      <td>7.28</td>\n",
       "    </tr>\n",
       "  </tbody>\n",
       "</table>\n",
       "</div>"
      ],
      "text/plain": [
       "   Unnamed: 0  Country  Time  Gender  Age  Chronic_percentage  \\\n",
       "0           0        0  2008       0    0                 0.0   \n",
       "1           1        0  2008       0    2                 0.0   \n",
       "2           2        0  2008       0    3                 0.0   \n",
       "3           3        0  2008       0    4                 0.0   \n",
       "4           4        0  2008       0    5                 0.0   \n",
       "\n",
       "   Acute_percentage  \n",
       "0              0.00  \n",
       "1             10.92  \n",
       "2              2.08  \n",
       "3             11.96  \n",
       "4              7.28  "
      ]
     },
     "execution_count": 4,
     "metadata": {},
     "output_type": "execute_result"
    }
   ],
   "source": [
    "# Encoding categorical variables \n",
    "\n",
    "label_encoder_country = LabelEncoder()\n",
    "df['Country'] = label_encoder_country.fit_transform(df['Country'])\n",
    "label_encoder_gender = LabelEncoder()\n",
    "df['Gender'] = label_encoder_gender.fit_transform(df['Gender'])\n",
    "age_mapping = {\n",
    "    '0-4': 0,\n",
    "    '15-19': 2,\n",
    "    '20-24': 3,\n",
    "    '25-34': 4,\n",
    "    '35-44': 5,\n",
    "    '45-54': 6,\n",
    "    '5-14': 1,\n",
    "    '55-64': 7,\n",
    "    '65+': 8\n",
    "}\n",
    "df['Age'] = df['Age'].map(age_mapping)\n",
    "\n",
    "'''label_encoder_age = LabelEncoder()\n",
    "df['Age'] = label_encoder_age.fit_transform(df['Age'])\n",
    "'''\n",
    "# Verify\n",
    "df.head()\n",
    "\n"
   ]
  },
  {
   "cell_type": "code",
   "execution_count": 5,
   "metadata": {},
   "outputs": [],
   "source": [
    "df.drop(columns=['Unnamed: 0'], inplace=True)\n"
   ]
  },
  {
   "cell_type": "code",
   "execution_count": 6,
   "metadata": {},
   "outputs": [],
   "source": [
    "# Select features and targets\n",
    "X = df[['Country', 'Time', 'Gender', 'Age']]\n",
    "y_chronic = df['Chronic_percentage']  \n",
    "y_acute = df['Acute_percentage']  \n",
    "\n"
   ]
  },
  {
   "cell_type": "code",
   "execution_count": 7,
   "metadata": {},
   "outputs": [],
   "source": [
    "# separate train-test\n",
    "X_train, X_test, y_train_chronic, y_test_chronic = train_test_split(X, y_chronic, test_size=0.2, random_state=42)\n",
    "X_train, X_test, y_train_acute, y_test_acute = train_test_split(X, y_acute, test_size=0.2, random_state=42)"
   ]
  },
  {
   "cell_type": "code",
   "execution_count": 8,
   "metadata": {},
   "outputs": [
    {
     "data": {
      "text/html": [
       "<style>#sk-container-id-1 {color: black;}#sk-container-id-1 pre{padding: 0;}#sk-container-id-1 div.sk-toggleable {background-color: white;}#sk-container-id-1 label.sk-toggleable__label {cursor: pointer;display: block;width: 100%;margin-bottom: 0;padding: 0.3em;box-sizing: border-box;text-align: center;}#sk-container-id-1 label.sk-toggleable__label-arrow:before {content: \"▸\";float: left;margin-right: 0.25em;color: #696969;}#sk-container-id-1 label.sk-toggleable__label-arrow:hover:before {color: black;}#sk-container-id-1 div.sk-estimator:hover label.sk-toggleable__label-arrow:before {color: black;}#sk-container-id-1 div.sk-toggleable__content {max-height: 0;max-width: 0;overflow: hidden;text-align: left;background-color: #f0f8ff;}#sk-container-id-1 div.sk-toggleable__content pre {margin: 0.2em;color: black;border-radius: 0.25em;background-color: #f0f8ff;}#sk-container-id-1 input.sk-toggleable__control:checked~div.sk-toggleable__content {max-height: 200px;max-width: 100%;overflow: auto;}#sk-container-id-1 input.sk-toggleable__control:checked~label.sk-toggleable__label-arrow:before {content: \"▾\";}#sk-container-id-1 div.sk-estimator input.sk-toggleable__control:checked~label.sk-toggleable__label {background-color: #d4ebff;}#sk-container-id-1 div.sk-label input.sk-toggleable__control:checked~label.sk-toggleable__label {background-color: #d4ebff;}#sk-container-id-1 input.sk-hidden--visually {border: 0;clip: rect(1px 1px 1px 1px);clip: rect(1px, 1px, 1px, 1px);height: 1px;margin: -1px;overflow: hidden;padding: 0;position: absolute;width: 1px;}#sk-container-id-1 div.sk-estimator {font-family: monospace;background-color: #f0f8ff;border: 1px dotted black;border-radius: 0.25em;box-sizing: border-box;margin-bottom: 0.5em;}#sk-container-id-1 div.sk-estimator:hover {background-color: #d4ebff;}#sk-container-id-1 div.sk-parallel-item::after {content: \"\";width: 100%;border-bottom: 1px solid gray;flex-grow: 1;}#sk-container-id-1 div.sk-label:hover label.sk-toggleable__label {background-color: #d4ebff;}#sk-container-id-1 div.sk-serial::before {content: \"\";position: absolute;border-left: 1px solid gray;box-sizing: border-box;top: 0;bottom: 0;left: 50%;z-index: 0;}#sk-container-id-1 div.sk-serial {display: flex;flex-direction: column;align-items: center;background-color: white;padding-right: 0.2em;padding-left: 0.2em;position: relative;}#sk-container-id-1 div.sk-item {position: relative;z-index: 1;}#sk-container-id-1 div.sk-parallel {display: flex;align-items: stretch;justify-content: center;background-color: white;position: relative;}#sk-container-id-1 div.sk-item::before, #sk-container-id-1 div.sk-parallel-item::before {content: \"\";position: absolute;border-left: 1px solid gray;box-sizing: border-box;top: 0;bottom: 0;left: 50%;z-index: -1;}#sk-container-id-1 div.sk-parallel-item {display: flex;flex-direction: column;z-index: 1;position: relative;background-color: white;}#sk-container-id-1 div.sk-parallel-item:first-child::after {align-self: flex-end;width: 50%;}#sk-container-id-1 div.sk-parallel-item:last-child::after {align-self: flex-start;width: 50%;}#sk-container-id-1 div.sk-parallel-item:only-child::after {width: 0;}#sk-container-id-1 div.sk-dashed-wrapped {border: 1px dashed gray;margin: 0 0.4em 0.5em 0.4em;box-sizing: border-box;padding-bottom: 0.4em;background-color: white;}#sk-container-id-1 div.sk-label label {font-family: monospace;font-weight: bold;display: inline-block;line-height: 1.2em;}#sk-container-id-1 div.sk-label-container {text-align: center;}#sk-container-id-1 div.sk-container {/* jupyter's `normalize.less` sets `[hidden] { display: none; }` but bootstrap.min.css set `[hidden] { display: none !important; }` so we also need the `!important` here to be able to override the default hidden behavior on the sphinx rendered scikit-learn.org. See: https://github.com/scikit-learn/scikit-learn/issues/21755 */display: inline-block !important;position: relative;}#sk-container-id-1 div.sk-text-repr-fallback {display: none;}</style><div id=\"sk-container-id-1\" class=\"sk-top-container\"><div class=\"sk-text-repr-fallback\"><pre>RandomForestRegressor(random_state=42)</pre><b>In a Jupyter environment, please rerun this cell to show the HTML representation or trust the notebook. <br />On GitHub, the HTML representation is unable to render, please try loading this page with nbviewer.org.</b></div><div class=\"sk-container\" hidden><div class=\"sk-item\"><div class=\"sk-estimator sk-toggleable\"><input class=\"sk-toggleable__control sk-hidden--visually\" id=\"sk-estimator-id-1\" type=\"checkbox\" checked><label for=\"sk-estimator-id-1\" class=\"sk-toggleable__label sk-toggleable__label-arrow\">RandomForestRegressor</label><div class=\"sk-toggleable__content\"><pre>RandomForestRegressor(random_state=42)</pre></div></div></div></div></div>"
      ],
      "text/plain": [
       "RandomForestRegressor(random_state=42)"
      ]
     },
     "execution_count": 8,
     "metadata": {},
     "output_type": "execute_result"
    }
   ],
   "source": [
    "# Create and train Random Forest model for Chronic_percentage\n",
    "rf_chronic = RandomForestRegressor(n_estimators=100, random_state=42)\n",
    "rf_chronic.fit(X_train, y_train_chronic)\n",
    "\n",
    "# Create and train Random Forest model for Acute_percentage\n",
    "rf_acute = RandomForestRegressor(n_estimators=100, random_state=42)\n",
    "rf_acute.fit(X_train, y_train_acute)"
   ]
  },
  {
   "cell_type": "code",
   "execution_count": 10,
   "metadata": {},
   "outputs": [
    {
     "name": "stdout",
     "output_type": "stream",
     "text": [
      "Label encoders saved!\n"
     ]
    }
   ],
   "source": [
    "import joblib \n",
    "\n",
    "models = {\n",
    "    'chronic': rf_chronic,\n",
    "    'acute': rf_acute\n",
    "}\n",
    "\n",
    "# Salva il dizionario in un unico file\n",
    "joblib.dump(models, 'models_rf.pkl')\n",
    "\n",
    "joblib.dump(label_encoder_country, \"label_encoder_country.pkl\")\n",
    "joblib.dump(label_encoder_gender, \"label_encoder_gender.pkl\")\n",
    "#joblib.dump(label_encoder_age, \"label_encoder_age.pkl\")\n",
    "print(\"Label encoders saved!\")\n"
   ]
  },
  {
   "cell_type": "code",
   "execution_count": null,
   "metadata": {},
   "outputs": [],
   "source": [
    "# Evaluate models\n",
    "chronic_preds = rf_chronic.predict(X_test)\n",
    "acute_preds = rf_acute.predict(X_test)"
   ]
  },
  {
   "cell_type": "code",
   "execution_count": null,
   "metadata": {},
   "outputs": [
    {
     "name": "stdout",
     "output_type": "stream",
     "text": [
      "RMSE for Chronic_percentage: 0.30052233672026496\n",
      "RMSE for Acute_percentage: 4.646412202336281\n"
     ]
    }
   ],
   "source": [
    "import numpy as np\n",
    "\n",
    "# Calculate root mean squared error (RMSE)\n",
    "rmse_chronic = np.sqrt(mean_squared_error(y_test_chronic, chronic_preds))\n",
    "rmse_acute = np.sqrt(mean_squared_error(y_test_acute, acute_preds))\n",
    "\n",
    "print(f'RMSE for Chronic_percentage: {rmse_chronic}')\n",
    "print(f'RMSE for Acute_percentage: {rmse_acute}')"
   ]
  },
  {
   "cell_type": "markdown",
   "metadata": {},
   "source": [
    "#### RMSE (root mean squared error) measures the accuracy of a model's predictions. It calculates the average difference between the predicted values and the actual values, giving more weight to larger errors due to the squaring. Lower RMSE values indicate better model performance. "
   ]
  },
  {
   "cell_type": "code",
   "execution_count": null,
   "metadata": {},
   "outputs": [],
   "source": [
    "# Predict new data (ex. Austria)\n",
    "X_new = pd.DataFrame({\n",
    "    'Country': [label_encoder_country.transform(['Austria'])[0]],  \n",
    "    'Time': [2020],  \n",
    "    'Gender': [label_encoder_gender.transform(['Female'])[0]],  \n",
    "    'Age': [label_encoder_age.transform(['25-34'])[0]] \n",
    "})\n"
   ]
  },
  {
   "cell_type": "code",
   "execution_count": null,
   "metadata": {},
   "outputs": [
    {
     "name": "stdout",
     "output_type": "stream",
     "text": [
      "Chronic_percentage for Austria, female, 25-34 yo, 2020: 0.17269999999999988\n",
      "Acute_percentage for Austria, female, 25-34 yo, 2020: 6.110000000000001\n"
     ]
    }
   ],
   "source": [
    "# Predict new datas\n",
    "chronic_new_prediction = rf_chronic.predict(X_new)\n",
    "acute_new_prediction = rf_acute.predict(X_new)\n",
    "\n",
    "print(f'Chronic_percentage for Austria, female, 25-34 yo, 2020: {chronic_new_prediction[0]}')\n",
    "print(f'Acute_percentage for Austria, female, 25-34 yo, 2020: {acute_new_prediction[0]}')"
   ]
  },
  {
   "cell_type": "code",
   "execution_count": null,
   "metadata": {},
   "outputs": [],
   "source": [
    "# Evaluate\n",
    "y_pred_chronic = rf_chronic.predict(X_test)\n",
    "y_pred_acute = rf_acute.predict(X_test)\n"
   ]
  },
  {
   "cell_type": "code",
   "execution_count": null,
   "metadata": {},
   "outputs": [
    {
     "name": "stdout",
     "output_type": "stream",
     "text": [
      "R^2 for Chronic: 0.8912318821626068\n",
      "R^2 for Acute: 0.43947175814264205\n"
     ]
    }
   ],
   "source": [
    "# Calculate R^2 score\n",
    "from sklearn.metrics import r2_score\n",
    "\n",
    "# (R^2)\n",
    "r2_chronic = r2_score(y_test_chronic, y_pred_chronic)\n",
    "r2_acute = r2_score(y_test_acute, y_pred_acute)\n",
    "\n",
    "# \n",
    "print(f\"R^2 for Chronic: {r2_chronic}\")\n",
    "print(f\"R^2 for Acute: {r2_acute}\")\n"
   ]
  },
  {
   "cell_type": "code",
   "execution_count": null,
   "metadata": {},
   "outputs": [
    {
     "name": "stdout",
     "output_type": "stream",
     "text": [
      "MAE for Chronic: 0.09422574737696862\n",
      "MAE for Acute: 2.457349208282582\n"
     ]
    }
   ],
   "source": [
    "from sklearn.metrics import mean_absolute_error\n",
    "\n",
    "# MAE\n",
    "mae_chronic = mean_absolute_error(y_test_chronic, y_pred_chronic)\n",
    "mae_acute = mean_absolute_error(y_test_acute, y_pred_acute)\n",
    "\n",
    "print(f\"MAE for Chronic: {mae_chronic}\")\n",
    "print(f\"MAE for Acute: {mae_acute}\")\n"
   ]
  },
  {
   "cell_type": "code",
   "execution_count": null,
   "metadata": {},
   "outputs": [
    {
     "data": {
      "image/png": "[encoded data removed]",
      "text/plain": [
       "<Figure size 640x480 with 1 Axes>"
      ]
     },
     "metadata": {},
     "output_type": "display_data"
    },
    {
     "data": {
      "image/png": "[encoded data removed]",
      "text/plain": [
       "<Figure size 640x480 with 1 Axes>"
      ]
     },
     "metadata": {},
     "output_type": "display_data"
    }
   ],
   "source": [
    "import matplotlib.pyplot as plt\n",
    "\n",
    "# Chronic_percentage scatterplot\n",
    "plt.scatter(y_test_chronic, y_pred_chronic)\n",
    "plt.plot([0, 1], [0, 1], '--', color='red')  # Identity line (y = x)\n",
    "plt.title('Chronic Percentage: Real vs Predicted')\n",
    "plt.xlabel('Real Values')\n",
    "plt.ylabel('Predicted Values')\n",
    "plt.show()\n",
    "\n",
    "# Acute_percentage scatterplot\n",
    "plt.scatter(y_test_acute, y_pred_acute)\n",
    "plt.plot([0, 1], [0, 1], '--', color='red')  # identity line (y = x)\n",
    "plt.title('Acute Percentage: Real vs Predicted')\n",
    "plt.xlabel('Real Values')\n",
    "plt.ylabel('Predicted Values')\n",
    "plt.show()\n"
   ]
  },
  {
   "cell_type": "code",
   "execution_count": null,
   "metadata": {},
   "outputs": [
    {
     "name": "stdout",
     "output_type": "stream",
     "text": [
      "Austria -> 0\n",
      "Croatia -> 1\n",
      "Cyprus -> 2\n",
      "Czechia -> 3\n",
      "Denmark -> 4\n",
      "Estonia -> 5\n",
      "Finland -> 6\n",
      "France -> 7\n",
      "Germany -> 8\n",
      "Greece -> 9\n",
      "Hungary -> 10\n",
      "Iceland -> 11\n",
      "Ireland -> 12\n",
      "Italy -> 13\n",
      "Latvia -> 14\n",
      "Liechtenstein -> 15\n",
      "Lithuania -> 16\n",
      "Luxembourg -> 17\n",
      "Malta -> 18\n",
      "Netherlands -> 19\n",
      "Norway -> 20\n",
      "Poland -> 21\n",
      "Portugal -> 22\n",
      "Romania -> 23\n",
      "Slovakia -> 24\n",
      "Slovenia -> 25\n",
      "Spain -> 26\n",
      "Sweden -> 27\n",
      "United Kingdom -> 28\n",
      "0-4 -> 0\n",
      "15-19 -> 1\n",
      "20-24 -> 2\n",
      "25-34 -> 3\n",
      "35-44 -> 4\n",
      "45-54 -> 5\n",
      "5-14 -> 6\n",
      "55-64 -> 7\n",
      "65+ -> 8\n"
     ]
    }
   ],
   "source": [
    "# print mapping for encoded values \n",
    "for i, country in enumerate(label_encoder_country.classes_):\n",
    "    print(f\"{country} -> {i}\")\n",
    "\n",
    "for i, age in enumerate(label_encoder_age.classes_):\n",
    "    print(f\"{age} -> {i}\")\n",
    "\n"
   ]
  },
  {
   "cell_type": "code",
   "execution_count": null,
   "metadata": {},
   "outputs": [],
   "source": []
  }
 ],
 "metadata": {
  "kernelspec": {
   "display_name": "base",
   "language": "python",
   "name": "python3"
  },
  "language_info": {
   "codemirror_mode": {
    "name": "ipython",
    "version": 3
   },
   "file_extension": ".py",
   "mimetype": "text/x-python",
   "name": "python",
   "nbconvert_exporter": "python",
   "pygments_lexer": "ipython3",
   "version": "3.11.4"
  }
 },
 "nbformat": 4,
 "nbformat_minor": 2
}
