{
 "cells": [
  {
   "cell_type": "code",
   "execution_count": 38,
   "metadata": {},
   "outputs": [],
   "source": [
    "import seaborn as sns\n",
    "import pandas as pd\n",
    "import matplotlib.pyplot as plt\n",
    "from sklearn.impute import SimpleImputer"
   ]
  },
  {
   "cell_type": "code",
   "execution_count": 39,
   "metadata": {},
   "outputs": [
    {
     "data": {
      "text/html": [
       "<div>\n",
       "<style scoped>\n",
       "    .dataframe tbody tr th:only-of-type {\n",
       "        vertical-align: middle;\n",
       "    }\n",
       "\n",
       "    .dataframe tbody tr th {\n",
       "        vertical-align: top;\n",
       "    }\n",
       "\n",
       "    .dataframe thead th {\n",
       "        text-align: right;\n",
       "    }\n",
       "</style>\n",
       "<table border=\"1\" class=\"dataframe\">\n",
       "  <thead>\n",
       "    <tr style=\"text-align: right;\">\n",
       "      <th></th>\n",
       "      <th>Unnamed: 0</th>\n",
       "      <th>RegionName</th>\n",
       "      <th>Time</th>\n",
       "      <th>Category_gender</th>\n",
       "      <th>Category_age</th>\n",
       "      <th>Chronic_percentage</th>\n",
       "      <th>Acute_percentage</th>\n",
       "    </tr>\n",
       "  </thead>\n",
       "  <tbody>\n",
       "    <tr>\n",
       "      <th>0</th>\n",
       "      <td>0</td>\n",
       "      <td>Austria</td>\n",
       "      <td>2008</td>\n",
       "      <td>Female</td>\n",
       "      <td>0-4</td>\n",
       "      <td>NaN</td>\n",
       "      <td>0.00</td>\n",
       "    </tr>\n",
       "    <tr>\n",
       "      <th>1</th>\n",
       "      <td>1</td>\n",
       "      <td>Austria</td>\n",
       "      <td>2008</td>\n",
       "      <td>Female</td>\n",
       "      <td>15-19</td>\n",
       "      <td>NaN</td>\n",
       "      <td>10.92</td>\n",
       "    </tr>\n",
       "    <tr>\n",
       "      <th>2</th>\n",
       "      <td>2</td>\n",
       "      <td>Austria</td>\n",
       "      <td>2008</td>\n",
       "      <td>Female</td>\n",
       "      <td>20-24</td>\n",
       "      <td>NaN</td>\n",
       "      <td>2.08</td>\n",
       "    </tr>\n",
       "    <tr>\n",
       "      <th>3</th>\n",
       "      <td>3</td>\n",
       "      <td>Austria</td>\n",
       "      <td>2008</td>\n",
       "      <td>Female</td>\n",
       "      <td>25-34</td>\n",
       "      <td>NaN</td>\n",
       "      <td>11.96</td>\n",
       "    </tr>\n",
       "    <tr>\n",
       "      <th>4</th>\n",
       "      <td>4</td>\n",
       "      <td>Austria</td>\n",
       "      <td>2008</td>\n",
       "      <td>Female</td>\n",
       "      <td>35-44</td>\n",
       "      <td>NaN</td>\n",
       "      <td>7.28</td>\n",
       "    </tr>\n",
       "    <tr>\n",
       "      <th>...</th>\n",
       "      <td>...</td>\n",
       "      <td>...</td>\n",
       "      <td>...</td>\n",
       "      <td>...</td>\n",
       "      <td>...</td>\n",
       "      <td>...</td>\n",
       "      <td>...</td>\n",
       "    </tr>\n",
       "    <tr>\n",
       "      <th>9499</th>\n",
       "      <td>9499</td>\n",
       "      <td>United Kingdom</td>\n",
       "      <td>2019</td>\n",
       "      <td>Male</td>\n",
       "      <td>35-44</td>\n",
       "      <td>1.53</td>\n",
       "      <td>11.59</td>\n",
       "    </tr>\n",
       "    <tr>\n",
       "      <th>9500</th>\n",
       "      <td>9500</td>\n",
       "      <td>United Kingdom</td>\n",
       "      <td>2019</td>\n",
       "      <td>Male</td>\n",
       "      <td>45-54</td>\n",
       "      <td>0.90</td>\n",
       "      <td>12.20</td>\n",
       "    </tr>\n",
       "    <tr>\n",
       "      <th>9501</th>\n",
       "      <td>9501</td>\n",
       "      <td>United Kingdom</td>\n",
       "      <td>2019</td>\n",
       "      <td>Male</td>\n",
       "      <td>5-14</td>\n",
       "      <td>0.00</td>\n",
       "      <td>0.00</td>\n",
       "    </tr>\n",
       "    <tr>\n",
       "      <th>9502</th>\n",
       "      <td>9502</td>\n",
       "      <td>United Kingdom</td>\n",
       "      <td>2019</td>\n",
       "      <td>Male</td>\n",
       "      <td>55-64</td>\n",
       "      <td>0.45</td>\n",
       "      <td>9.15</td>\n",
       "    </tr>\n",
       "    <tr>\n",
       "      <th>9503</th>\n",
       "      <td>9503</td>\n",
       "      <td>United Kingdom</td>\n",
       "      <td>2019</td>\n",
       "      <td>Male</td>\n",
       "      <td>65+</td>\n",
       "      <td>0.18</td>\n",
       "      <td>6.71</td>\n",
       "    </tr>\n",
       "  </tbody>\n",
       "</table>\n",
       "<p>9504 rows × 7 columns</p>\n",
       "</div>"
      ],
      "text/plain": [
       "      Unnamed: 0      RegionName  Time Category_gender Category_age  \\\n",
       "0              0         Austria  2008          Female          0-4   \n",
       "1              1         Austria  2008          Female        15-19   \n",
       "2              2         Austria  2008          Female        20-24   \n",
       "3              3         Austria  2008          Female        25-34   \n",
       "4              4         Austria  2008          Female        35-44   \n",
       "...          ...             ...   ...             ...          ...   \n",
       "9499        9499  United Kingdom  2019            Male        35-44   \n",
       "9500        9500  United Kingdom  2019            Male        45-54   \n",
       "9501        9501  United Kingdom  2019            Male         5-14   \n",
       "9502        9502  United Kingdom  2019            Male        55-64   \n",
       "9503        9503  United Kingdom  2019            Male          65+   \n",
       "\n",
       "      Chronic_percentage  Acute_percentage  \n",
       "0                    NaN              0.00  \n",
       "1                    NaN             10.92  \n",
       "2                    NaN              2.08  \n",
       "3                    NaN             11.96  \n",
       "4                    NaN              7.28  \n",
       "...                  ...               ...  \n",
       "9499                1.53             11.59  \n",
       "9500                0.90             12.20  \n",
       "9501                0.00              0.00  \n",
       "9502                0.45              9.15  \n",
       "9503                0.18              6.71  \n",
       "\n",
       "[9504 rows x 7 columns]"
      ]
     },
     "execution_count": 39,
     "metadata": {},
     "output_type": "execute_result"
    }
   ],
   "source": [
    "hepatitis = pd.read_csv('Hepatitis.csv')\n",
    "hepatitis"
   ]
  },
  {
   "cell_type": "code",
   "execution_count": 40,
   "metadata": {},
   "outputs": [
    {
     "name": "stdout",
     "output_type": "stream",
     "text": [
      "Unnamed: 0               0\n",
      "RegionName               0\n",
      "Time                     0\n",
      "Category_gender          0\n",
      "Category_age             0\n",
      "Chronic_percentage    1764\n",
      "Acute_percentage       468\n",
      "dtype: int64\n"
     ]
    }
   ],
   "source": [
    "print(hepatitis.isna().sum())\n",
    "\n",
    "# We found some missing values due to a lack of data measurements"
   ]
  },
  {
   "cell_type": "code",
   "execution_count": 41,
   "metadata": {},
   "outputs": [
    {
     "data": {
      "text/plain": [
       "<Axes: >"
      ]
     },
     "execution_count": 41,
     "metadata": {},
     "output_type": "execute_result"
    },
    {
     "data": {
      "image/png": "[encoded data removed]",
      "text/plain": [
       "<Figure size 640x480 with 1 Axes>"
      ]
     },
     "metadata": {},
     "output_type": "display_data"
    }
   ],
   "source": [
    "# heatmap to visualize where the Nan values are\n",
    "sns.heatmap(hepatitis.isnull(), cbar=False)"
   ]
  },
  {
   "cell_type": "code",
   "execution_count": 42,
   "metadata": {},
   "outputs": [],
   "source": [
    "# Ensure that you're working with the original DataFrame and avoid modifying a copy\n",
    "hepatitis.loc[:, 'Acute_percentage'] = (\n",
    "    hepatitis.groupby('RegionName')['Acute_percentage']\n",
    "    .transform(lambda x: x.interpolate(method='linear'))\n",
    ")\n"
   ]
  },
  {
   "cell_type": "code",
   "execution_count": 43,
   "metadata": {},
   "outputs": [],
   "source": [
    "#Forward or Backward Fill: Use ffill or bfill to fill remaining NaNs with the last or next available value, respectively\n",
    "\n",
    "hepatitis['Acute_percentage'] = hepatitis.groupby('RegionName')['Acute_percentage'].transform(lambda x: x.interpolate(method='linear').ffill().bfill())"
   ]
  },
  {
   "cell_type": "code",
   "execution_count": 44,
   "metadata": {},
   "outputs": [],
   "source": [
    "hepatitis.loc[:, 'Chronic_percentage'] = (\n",
    "    hepatitis.groupby('RegionName')['Chronic_percentage']\n",
    "    .transform(lambda x: x.interpolate(method='linear').ffill().bfill())\n",
    ")"
   ]
  },
  {
   "cell_type": "code",
   "execution_count": 45,
   "metadata": {},
   "outputs": [
    {
     "data": {
      "text/plain": [
       "Unnamed: 0              0\n",
       "RegionName              0\n",
       "Time                    0\n",
       "Category_gender         0\n",
       "Category_age            0\n",
       "Chronic_percentage    954\n",
       "Acute_percentage        0\n",
       "dtype: int64"
      ]
     },
     "execution_count": 45,
     "metadata": {},
     "output_type": "execute_result"
    }
   ],
   "source": [
    "hepatitis.isna().sum()"
   ]
  },
  {
   "cell_type": "code",
   "execution_count": 47,
   "metadata": {},
   "outputs": [],
   "source": [
    "hepatitis.drop(columns=['Unnamed: 0'], inplace=True)"
   ]
  },
  {
   "cell_type": "code",
   "execution_count": 48,
   "metadata": {},
   "outputs": [],
   "source": [
    "# imputing the missing values of chronic percentage for France\n",
    "imputer = SimpleImputer(strategy='mean')\n",
    "hepatitis['Chronic_percentage'] = imputer.fit_transform(hepatitis[['Chronic_percentage']])\n"
   ]
  },
  {
   "cell_type": "code",
   "execution_count": 49,
   "metadata": {},
   "outputs": [
    {
     "data": {
      "text/html": [
       "<div>\n",
       "<style scoped>\n",
       "    .dataframe tbody tr th:only-of-type {\n",
       "        vertical-align: middle;\n",
       "    }\n",
       "\n",
       "    .dataframe tbody tr th {\n",
       "        vertical-align: top;\n",
       "    }\n",
       "\n",
       "    .dataframe thead th {\n",
       "        text-align: right;\n",
       "    }\n",
       "</style>\n",
       "<table border=\"1\" class=\"dataframe\">\n",
       "  <thead>\n",
       "    <tr style=\"text-align: right;\">\n",
       "      <th></th>\n",
       "      <th>Time</th>\n",
       "      <th>Chronic_percentage</th>\n",
       "      <th>Acute_percentage</th>\n",
       "    </tr>\n",
       "  </thead>\n",
       "  <tbody>\n",
       "    <tr>\n",
       "      <th>count</th>\n",
       "      <td>9504.000000</td>\n",
       "      <td>9504.000000</td>\n",
       "      <td>9504.000000</td>\n",
       "    </tr>\n",
       "    <tr>\n",
       "      <th>mean</th>\n",
       "      <td>2014.973485</td>\n",
       "      <td>0.357936</td>\n",
       "      <td>4.855457</td>\n",
       "    </tr>\n",
       "    <tr>\n",
       "      <th>std</th>\n",
       "      <td>5.041690</td>\n",
       "      <td>1.027346</td>\n",
       "      <td>7.327497</td>\n",
       "    </tr>\n",
       "    <tr>\n",
       "      <th>min</th>\n",
       "      <td>2006.000000</td>\n",
       "      <td>0.000000</td>\n",
       "      <td>0.000000</td>\n",
       "    </tr>\n",
       "    <tr>\n",
       "      <th>25%</th>\n",
       "      <td>2011.000000</td>\n",
       "      <td>0.000000</td>\n",
       "      <td>0.000000</td>\n",
       "    </tr>\n",
       "    <tr>\n",
       "      <th>50%</th>\n",
       "      <td>2015.000000</td>\n",
       "      <td>0.020000</td>\n",
       "      <td>2.345000</td>\n",
       "    </tr>\n",
       "    <tr>\n",
       "      <th>75%</th>\n",
       "      <td>2019.000000</td>\n",
       "      <td>0.357936</td>\n",
       "      <td>7.040000</td>\n",
       "    </tr>\n",
       "    <tr>\n",
       "      <th>max</th>\n",
       "      <td>2023.000000</td>\n",
       "      <td>17.250000</td>\n",
       "      <td>100.000000</td>\n",
       "    </tr>\n",
       "  </tbody>\n",
       "</table>\n",
       "</div>"
      ],
      "text/plain": [
       "              Time  Chronic_percentage  Acute_percentage\n",
       "count  9504.000000         9504.000000       9504.000000\n",
       "mean   2014.973485            0.357936          4.855457\n",
       "std       5.041690            1.027346          7.327497\n",
       "min    2006.000000            0.000000          0.000000\n",
       "25%    2011.000000            0.000000          0.000000\n",
       "50%    2015.000000            0.020000          2.345000\n",
       "75%    2019.000000            0.357936          7.040000\n",
       "max    2023.000000           17.250000        100.000000"
      ]
     },
     "execution_count": 49,
     "metadata": {},
     "output_type": "execute_result"
    }
   ],
   "source": [
    "hepatitis.describe()"
   ]
  },
  {
   "cell_type": "code",
   "execution_count": 50,
   "metadata": {},
   "outputs": [
    {
     "name": "stdout",
     "output_type": "stream",
     "text": [
      "         RegionName  Time Category_gender Category_age  Chronic_percentage  \\\n",
      "499         Croatia  2022            Male        35-44                0.00   \n",
      "588          Cyprus  2012            Male        25-34                0.00   \n",
      "653          Cyprus  2016          Female        45-54                0.00   \n",
      "751          Cyprus  2021            Male        35-44                0.06   \n",
      "786          Cyprus  2023            Male        25-34                1.20   \n",
      "4838        Iceland  2019            Male        45-54                1.04   \n",
      "4844        Iceland  2020          Female        20-24                0.77   \n",
      "5268          Italy  2021            Male        25-34                0.00   \n",
      "5686  Liechtenstein  2023            Male        55-64                0.00   \n",
      "5953     Luxembourg  2013            Male        35-44                0.96   \n",
      "5971     Luxembourg  2014            Male        35-44                0.03   \n",
      "7432       Portugal  2011            Male        55-64                0.00   \n",
      "8566       Slovenia  2020            Male        55-64                0.01   \n",
      "\n",
      "      Acute_percentage  \n",
      "499              100.0  \n",
      "588              100.0  \n",
      "653              100.0  \n",
      "751              100.0  \n",
      "786              100.0  \n",
      "4838             100.0  \n",
      "4844             100.0  \n",
      "5268             100.0  \n",
      "5686             100.0  \n",
      "5953             100.0  \n",
      "5971             100.0  \n",
      "7432             100.0  \n",
      "8566             100.0  \n"
     ]
    }
   ],
   "source": [
    "# Filter rows with 100% in Acute_percentage\n",
    "suspect_rows = hepatitis[hepatitis['Acute_percentage'] == 100]\n",
    "print(suspect_rows)\n"
   ]
  },
  {
   "cell_type": "code",
   "execution_count": 51,
   "metadata": {},
   "outputs": [],
   "source": [
    "# Replace 100% values in Acute_percentage with NaN\n",
    "hepatitis.loc[hepatitis['Acute_percentage'] == 100, 'Acute_percentage'] = None\n",
    "\n",
    "# Interpolate NaN values\n",
    "hepatitis['Acute_percentage'] = hepatitis.groupby('RegionName')['Acute_percentage'].transform(lambda x: x.interpolate(method='linear'))"
   ]
  },
  {
   "cell_type": "code",
   "execution_count": 52,
   "metadata": {},
   "outputs": [
    {
     "data": {
      "text/plain": [
       "Category_gender\n",
       "Female    4752\n",
       "Male      4752\n",
       "Name: count, dtype: int64"
      ]
     },
     "execution_count": 52,
     "metadata": {},
     "output_type": "execute_result"
    }
   ],
   "source": [
    "hepatitis['Category_gender'].value_counts() \n"
   ]
  },
  {
   "cell_type": "code",
   "execution_count": 53,
   "metadata": {},
   "outputs": [
    {
     "data": {
      "text/plain": [
       "Category_age\n",
       "0-4      1056\n",
       "15-19    1056\n",
       "20-24    1056\n",
       "25-34    1056\n",
       "35-44    1056\n",
       "45-54    1056\n",
       "5-14     1056\n",
       "55-64    1056\n",
       "65+      1056\n",
       "Name: count, dtype: int64"
      ]
     },
     "execution_count": 53,
     "metadata": {},
     "output_type": "execute_result"
    }
   ],
   "source": [
    "hepatitis['Category_age'].value_counts()"
   ]
  },
  {
   "cell_type": "code",
   "execution_count": 54,
   "metadata": {},
   "outputs": [
    {
     "data": {
      "image/png": "[encoded data removed]",
      "text/plain": [
       "<Figure size 640x480 with 1 Axes>"
      ]
     },
     "metadata": {},
     "output_type": "display_data"
    }
   ],
   "source": [
    "#This histogram visualizes how frequently each range of Chronic_percentage occurs in the dataset\n",
    "# allowing you to assess the spread, central tendency, and presence of any potential skew in these values.\n",
    "plt.hist(hepatitis['Chronic_percentage'], bins=10, color='skyblue', edgecolor='black')\n",
    "plt.xlabel('Chronic Percentage')\n",
    "plt.ylabel('Frequency')\n",
    "plt.title('Distribution of Chronic Percentage in Hepatitis Data')\n",
    "plt.show()"
   ]
  },
  {
   "cell_type": "code",
   "execution_count": 55,
   "metadata": {},
   "outputs": [
    {
     "data": {
      "image/png": "[encoded data removed]",
      "text/plain": [
       "<Figure size 640x480 with 1 Axes>"
      ]
     },
     "metadata": {},
     "output_type": "display_data"
    }
   ],
   "source": [
    "# Histogram in log scale - better visaulization\n",
    "plt.hist(hepatitis['Chronic_percentage'], bins=20, color='skyblue', edgecolor='black')\n",
    "plt.yscale('log')\n",
    "plt.title(\"Histogram of Chronic Percentage (Log Scale)\")\n",
    "plt.xlabel(\"Chronic Percentage\")\n",
    "plt.ylabel(\"Frequency (log scale)\")\n",
    "plt.show()"
   ]
  },
  {
   "cell_type": "code",
   "execution_count": 56,
   "metadata": {},
   "outputs": [
    {
     "data": {
      "text/plain": [
       "<function matplotlib.pyplot.show(close=None, block=None)>"
      ]
     },
     "execution_count": 56,
     "metadata": {},
     "output_type": "execute_result"
    },
    {
     "data": {
      "image/png": "[encoded data removed]",
      "text/plain": [
       "<Figure size 640x480 with 1 Axes>"
      ]
     },
     "metadata": {},
     "output_type": "display_data"
    }
   ],
   "source": [
    "plt.hist(hepatitis['Acute_percentage'], bins=10, color='blue', edgecolor= 'black')\n",
    "plt.yscale('log')\n",
    "plt.xlabel('Acute_percentage')\n",
    "plt.ylabel('Frequency')\n",
    "plt.title('Distribution of Acute Percentage in Hepatitis Data')\n",
    "plt.show"
   ]
  },
  {
   "cell_type": "code",
   "execution_count": 59,
   "metadata": {},
   "outputs": [
    {
     "data": {
      "text/html": [
       "<div>\n",
       "<style scoped>\n",
       "    .dataframe tbody tr th:only-of-type {\n",
       "        vertical-align: middle;\n",
       "    }\n",
       "\n",
       "    .dataframe tbody tr th {\n",
       "        vertical-align: top;\n",
       "    }\n",
       "\n",
       "    .dataframe thead th {\n",
       "        text-align: right;\n",
       "    }\n",
       "</style>\n",
       "<table border=\"1\" class=\"dataframe\">\n",
       "  <thead>\n",
       "    <tr style=\"text-align: right;\">\n",
       "      <th></th>\n",
       "      <th>Country</th>\n",
       "      <th>Time</th>\n",
       "      <th>Gender</th>\n",
       "      <th>Age</th>\n",
       "      <th>Chronic_percentage</th>\n",
       "      <th>Acute_percentage</th>\n",
       "    </tr>\n",
       "  </thead>\n",
       "  <tbody>\n",
       "    <tr>\n",
       "      <th>0</th>\n",
       "      <td>Austria</td>\n",
       "      <td>2008</td>\n",
       "      <td>Female</td>\n",
       "      <td>0-4</td>\n",
       "      <td>0.00</td>\n",
       "      <td>0.00</td>\n",
       "    </tr>\n",
       "    <tr>\n",
       "      <th>1</th>\n",
       "      <td>Austria</td>\n",
       "      <td>2008</td>\n",
       "      <td>Female</td>\n",
       "      <td>15-19</td>\n",
       "      <td>0.00</td>\n",
       "      <td>10.92</td>\n",
       "    </tr>\n",
       "    <tr>\n",
       "      <th>2</th>\n",
       "      <td>Austria</td>\n",
       "      <td>2008</td>\n",
       "      <td>Female</td>\n",
       "      <td>20-24</td>\n",
       "      <td>0.00</td>\n",
       "      <td>2.08</td>\n",
       "    </tr>\n",
       "    <tr>\n",
       "      <th>3</th>\n",
       "      <td>Austria</td>\n",
       "      <td>2008</td>\n",
       "      <td>Female</td>\n",
       "      <td>25-34</td>\n",
       "      <td>0.00</td>\n",
       "      <td>11.96</td>\n",
       "    </tr>\n",
       "    <tr>\n",
       "      <th>4</th>\n",
       "      <td>Austria</td>\n",
       "      <td>2008</td>\n",
       "      <td>Female</td>\n",
       "      <td>35-44</td>\n",
       "      <td>0.00</td>\n",
       "      <td>7.28</td>\n",
       "    </tr>\n",
       "    <tr>\n",
       "      <th>...</th>\n",
       "      <td>...</td>\n",
       "      <td>...</td>\n",
       "      <td>...</td>\n",
       "      <td>...</td>\n",
       "      <td>...</td>\n",
       "      <td>...</td>\n",
       "    </tr>\n",
       "    <tr>\n",
       "      <th>9499</th>\n",
       "      <td>United Kingdom</td>\n",
       "      <td>2019</td>\n",
       "      <td>Male</td>\n",
       "      <td>35-44</td>\n",
       "      <td>1.53</td>\n",
       "      <td>11.59</td>\n",
       "    </tr>\n",
       "    <tr>\n",
       "      <th>9500</th>\n",
       "      <td>United Kingdom</td>\n",
       "      <td>2019</td>\n",
       "      <td>Male</td>\n",
       "      <td>45-54</td>\n",
       "      <td>0.90</td>\n",
       "      <td>12.20</td>\n",
       "    </tr>\n",
       "    <tr>\n",
       "      <th>9501</th>\n",
       "      <td>United Kingdom</td>\n",
       "      <td>2019</td>\n",
       "      <td>Male</td>\n",
       "      <td>5-14</td>\n",
       "      <td>0.00</td>\n",
       "      <td>0.00</td>\n",
       "    </tr>\n",
       "    <tr>\n",
       "      <th>9502</th>\n",
       "      <td>United Kingdom</td>\n",
       "      <td>2019</td>\n",
       "      <td>Male</td>\n",
       "      <td>55-64</td>\n",
       "      <td>0.45</td>\n",
       "      <td>9.15</td>\n",
       "    </tr>\n",
       "    <tr>\n",
       "      <th>9503</th>\n",
       "      <td>United Kingdom</td>\n",
       "      <td>2019</td>\n",
       "      <td>Male</td>\n",
       "      <td>65+</td>\n",
       "      <td>0.18</td>\n",
       "      <td>6.71</td>\n",
       "    </tr>\n",
       "  </tbody>\n",
       "</table>\n",
       "<p>9504 rows × 6 columns</p>\n",
       "</div>"
      ],
      "text/plain": [
       "             Country  Time  Gender    Age  Chronic_percentage  \\\n",
       "0            Austria  2008  Female    0-4                0.00   \n",
       "1            Austria  2008  Female  15-19                0.00   \n",
       "2            Austria  2008  Female  20-24                0.00   \n",
       "3            Austria  2008  Female  25-34                0.00   \n",
       "4            Austria  2008  Female  35-44                0.00   \n",
       "...              ...   ...     ...    ...                 ...   \n",
       "9499  United Kingdom  2019    Male  35-44                1.53   \n",
       "9500  United Kingdom  2019    Male  45-54                0.90   \n",
       "9501  United Kingdom  2019    Male   5-14                0.00   \n",
       "9502  United Kingdom  2019    Male  55-64                0.45   \n",
       "9503  United Kingdom  2019    Male    65+                0.18   \n",
       "\n",
       "      Acute_percentage  \n",
       "0                 0.00  \n",
       "1                10.92  \n",
       "2                 2.08  \n",
       "3                11.96  \n",
       "4                 7.28  \n",
       "...                ...  \n",
       "9499             11.59  \n",
       "9500             12.20  \n",
       "9501              0.00  \n",
       "9502              9.15  \n",
       "9503              6.71  \n",
       "\n",
       "[9504 rows x 6 columns]"
      ]
     },
     "execution_count": 59,
     "metadata": {},
     "output_type": "execute_result"
    }
   ],
   "source": [
    "hepatitis.rename(columns={'RegionName': 'Country', 'Category_gender': 'Gender', 'Category_age': 'Age'}, inplace=True)\n",
    "hepatitis"
   ]
  },
  {
   "cell_type": "code",
   "execution_count": 60,
   "metadata": {},
   "outputs": [
    {
     "data": {
      "text/html": [
       "<div>\n",
       "<style scoped>\n",
       "    .dataframe tbody tr th:only-of-type {\n",
       "        vertical-align: middle;\n",
       "    }\n",
       "\n",
       "    .dataframe tbody tr th {\n",
       "        vertical-align: top;\n",
       "    }\n",
       "\n",
       "    .dataframe thead th {\n",
       "        text-align: right;\n",
       "    }\n",
       "</style>\n",
       "<table border=\"1\" class=\"dataframe\">\n",
       "  <thead>\n",
       "    <tr style=\"text-align: right;\">\n",
       "      <th></th>\n",
       "      <th>Country</th>\n",
       "      <th>Time</th>\n",
       "      <th>Gender</th>\n",
       "      <th>Age</th>\n",
       "      <th>Chronic_percentage</th>\n",
       "      <th>Acute_percentage</th>\n",
       "    </tr>\n",
       "  </thead>\n",
       "  <tbody>\n",
       "    <tr>\n",
       "      <th>0</th>\n",
       "      <td>Austria</td>\n",
       "      <td>2008</td>\n",
       "      <td>Female</td>\n",
       "      <td>0-4</td>\n",
       "      <td>0.00</td>\n",
       "      <td>0.00</td>\n",
       "    </tr>\n",
       "    <tr>\n",
       "      <th>1</th>\n",
       "      <td>Austria</td>\n",
       "      <td>2008</td>\n",
       "      <td>Female</td>\n",
       "      <td>15-19</td>\n",
       "      <td>0.00</td>\n",
       "      <td>10.92</td>\n",
       "    </tr>\n",
       "    <tr>\n",
       "      <th>2</th>\n",
       "      <td>Austria</td>\n",
       "      <td>2008</td>\n",
       "      <td>Female</td>\n",
       "      <td>20-24</td>\n",
       "      <td>0.00</td>\n",
       "      <td>2.08</td>\n",
       "    </tr>\n",
       "    <tr>\n",
       "      <th>3</th>\n",
       "      <td>Austria</td>\n",
       "      <td>2008</td>\n",
       "      <td>Female</td>\n",
       "      <td>25-34</td>\n",
       "      <td>0.00</td>\n",
       "      <td>11.96</td>\n",
       "    </tr>\n",
       "    <tr>\n",
       "      <th>4</th>\n",
       "      <td>Austria</td>\n",
       "      <td>2008</td>\n",
       "      <td>Female</td>\n",
       "      <td>35-44</td>\n",
       "      <td>0.00</td>\n",
       "      <td>7.28</td>\n",
       "    </tr>\n",
       "    <tr>\n",
       "      <th>...</th>\n",
       "      <td>...</td>\n",
       "      <td>...</td>\n",
       "      <td>...</td>\n",
       "      <td>...</td>\n",
       "      <td>...</td>\n",
       "      <td>...</td>\n",
       "    </tr>\n",
       "    <tr>\n",
       "      <th>9499</th>\n",
       "      <td>United Kingdom</td>\n",
       "      <td>2019</td>\n",
       "      <td>Male</td>\n",
       "      <td>35-44</td>\n",
       "      <td>1.53</td>\n",
       "      <td>11.59</td>\n",
       "    </tr>\n",
       "    <tr>\n",
       "      <th>9500</th>\n",
       "      <td>United Kingdom</td>\n",
       "      <td>2019</td>\n",
       "      <td>Male</td>\n",
       "      <td>45-54</td>\n",
       "      <td>0.90</td>\n",
       "      <td>12.20</td>\n",
       "    </tr>\n",
       "    <tr>\n",
       "      <th>9501</th>\n",
       "      <td>United Kingdom</td>\n",
       "      <td>2019</td>\n",
       "      <td>Male</td>\n",
       "      <td>5-14</td>\n",
       "      <td>0.00</td>\n",
       "      <td>0.00</td>\n",
       "    </tr>\n",
       "    <tr>\n",
       "      <th>9502</th>\n",
       "      <td>United Kingdom</td>\n",
       "      <td>2019</td>\n",
       "      <td>Male</td>\n",
       "      <td>55-64</td>\n",
       "      <td>0.45</td>\n",
       "      <td>9.15</td>\n",
       "    </tr>\n",
       "    <tr>\n",
       "      <th>9503</th>\n",
       "      <td>United Kingdom</td>\n",
       "      <td>2019</td>\n",
       "      <td>Male</td>\n",
       "      <td>65+</td>\n",
       "      <td>0.18</td>\n",
       "      <td>6.71</td>\n",
       "    </tr>\n",
       "  </tbody>\n",
       "</table>\n",
       "<p>8208 rows × 6 columns</p>\n",
       "</div>"
      ],
      "text/plain": [
       "             Country  Time  Gender    Age  Chronic_percentage  \\\n",
       "0            Austria  2008  Female    0-4                0.00   \n",
       "1            Austria  2008  Female  15-19                0.00   \n",
       "2            Austria  2008  Female  20-24                0.00   \n",
       "3            Austria  2008  Female  25-34                0.00   \n",
       "4            Austria  2008  Female  35-44                0.00   \n",
       "...              ...   ...     ...    ...                 ...   \n",
       "9499  United Kingdom  2019    Male  35-44                1.53   \n",
       "9500  United Kingdom  2019    Male  45-54                0.90   \n",
       "9501  United Kingdom  2019    Male   5-14                0.00   \n",
       "9502  United Kingdom  2019    Male  55-64                0.45   \n",
       "9503  United Kingdom  2019    Male    65+                0.18   \n",
       "\n",
       "      Acute_percentage  \n",
       "0                 0.00  \n",
       "1                10.92  \n",
       "2                 2.08  \n",
       "3                11.96  \n",
       "4                 7.28  \n",
       "...                ...  \n",
       "9499             11.59  \n",
       "9500             12.20  \n",
       "9501              0.00  \n",
       "9502              9.15  \n",
       "9503              6.71  \n",
       "\n",
       "[8208 rows x 6 columns]"
      ]
     },
     "execution_count": 60,
     "metadata": {},
     "output_type": "execute_result"
    }
   ],
   "source": [
    "# delete EU from country \n",
    "hepatitis = hepatitis[~hepatitis['Country'].str.contains('EU', na=False)]\n",
    "hepatitis"
   ]
  },
  {
   "cell_type": "code",
   "execution_count": 61,
   "metadata": {},
   "outputs": [
    {
     "data": {
      "text/plain": [
       "Country               0\n",
       "Time                  0\n",
       "Gender                0\n",
       "Age                   0\n",
       "Chronic_percentage    0\n",
       "Acute_percentage      0\n",
       "dtype: int64"
      ]
     },
     "execution_count": 61,
     "metadata": {},
     "output_type": "execute_result"
    }
   ],
   "source": [
    "hepatitis.isnull().sum()"
   ]
  },
  {
   "cell_type": "code",
   "execution_count": 62,
   "metadata": {},
   "outputs": [
    {
     "data": {
      "text/html": [
       "<div>\n",
       "<style scoped>\n",
       "    .dataframe tbody tr th:only-of-type {\n",
       "        vertical-align: middle;\n",
       "    }\n",
       "\n",
       "    .dataframe tbody tr th {\n",
       "        vertical-align: top;\n",
       "    }\n",
       "\n",
       "    .dataframe thead th {\n",
       "        text-align: right;\n",
       "    }\n",
       "</style>\n",
       "<table border=\"1\" class=\"dataframe\">\n",
       "  <thead>\n",
       "    <tr style=\"text-align: right;\">\n",
       "      <th></th>\n",
       "      <th>Country</th>\n",
       "      <th>Time</th>\n",
       "      <th>Gender</th>\n",
       "      <th>Age</th>\n",
       "      <th>Chronic_percentage</th>\n",
       "      <th>Acute_percentage</th>\n",
       "    </tr>\n",
       "  </thead>\n",
       "  <tbody>\n",
       "    <tr>\n",
       "      <th>0</th>\n",
       "      <td>Austria</td>\n",
       "      <td>2008</td>\n",
       "      <td>Female</td>\n",
       "      <td>0-4</td>\n",
       "      <td>0.0</td>\n",
       "      <td>0.00</td>\n",
       "    </tr>\n",
       "    <tr>\n",
       "      <th>1</th>\n",
       "      <td>Austria</td>\n",
       "      <td>2008</td>\n",
       "      <td>Female</td>\n",
       "      <td>15-19</td>\n",
       "      <td>0.0</td>\n",
       "      <td>10.92</td>\n",
       "    </tr>\n",
       "    <tr>\n",
       "      <th>2</th>\n",
       "      <td>Austria</td>\n",
       "      <td>2008</td>\n",
       "      <td>Female</td>\n",
       "      <td>20-24</td>\n",
       "      <td>0.0</td>\n",
       "      <td>2.08</td>\n",
       "    </tr>\n",
       "    <tr>\n",
       "      <th>3</th>\n",
       "      <td>Austria</td>\n",
       "      <td>2008</td>\n",
       "      <td>Female</td>\n",
       "      <td>25-34</td>\n",
       "      <td>0.0</td>\n",
       "      <td>11.96</td>\n",
       "    </tr>\n",
       "    <tr>\n",
       "      <th>4</th>\n",
       "      <td>Austria</td>\n",
       "      <td>2008</td>\n",
       "      <td>Female</td>\n",
       "      <td>35-44</td>\n",
       "      <td>0.0</td>\n",
       "      <td>7.28</td>\n",
       "    </tr>\n",
       "  </tbody>\n",
       "</table>\n",
       "</div>"
      ],
      "text/plain": [
       "   Country  Time  Gender    Age  Chronic_percentage  Acute_percentage\n",
       "0  Austria  2008  Female    0-4                 0.0              0.00\n",
       "1  Austria  2008  Female  15-19                 0.0             10.92\n",
       "2  Austria  2008  Female  20-24                 0.0              2.08\n",
       "3  Austria  2008  Female  25-34                 0.0             11.96\n",
       "4  Austria  2008  Female  35-44                 0.0              7.28"
      ]
     },
     "execution_count": 62,
     "metadata": {},
     "output_type": "execute_result"
    }
   ],
   "source": [
    "hepatitis.head()"
   ]
  },
  {
   "cell_type": "code",
   "execution_count": 63,
   "metadata": {},
   "outputs": [],
   "source": [
    "hepatitis.to_csv('Hepatitis_eda.csv')"
   ]
  },
  {
   "cell_type": "code",
   "execution_count": 64,
   "metadata": {},
   "outputs": [
    {
     "data": {
      "text/plain": [
       "<Axes: xlabel='Chronic_percentage'>"
      ]
     },
     "execution_count": 64,
     "metadata": {},
     "output_type": "execute_result"
    },
    {
     "data": {
      "image/png": "[encoded data removed]",
      "text/plain": [
       "<Figure size 640x480 with 1 Axes>"
      ]
     },
     "metadata": {},
     "output_type": "display_data"
    }
   ],
   "source": [
    "sns.boxplot(x='Chronic_percentage', data=hepatitis)"
   ]
  },
  {
   "cell_type": "code",
   "execution_count": 65,
   "metadata": {},
   "outputs": [
    {
     "data": {
      "text/html": [
       "<div>\n",
       "<style scoped>\n",
       "    .dataframe tbody tr th:only-of-type {\n",
       "        vertical-align: middle;\n",
       "    }\n",
       "\n",
       "    .dataframe tbody tr th {\n",
       "        vertical-align: top;\n",
       "    }\n",
       "\n",
       "    .dataframe thead th {\n",
       "        text-align: right;\n",
       "    }\n",
       "</style>\n",
       "<table border=\"1\" class=\"dataframe\">\n",
       "  <thead>\n",
       "    <tr style=\"text-align: right;\">\n",
       "      <th></th>\n",
       "      <th>Chronic_percentage</th>\n",
       "      <th>Acute_percentage</th>\n",
       "    </tr>\n",
       "  </thead>\n",
       "  <tbody>\n",
       "    <tr>\n",
       "      <th>Chronic_percentage</th>\n",
       "      <td>1.000000</td>\n",
       "      <td>0.213006</td>\n",
       "    </tr>\n",
       "    <tr>\n",
       "      <th>Acute_percentage</th>\n",
       "      <td>0.213006</td>\n",
       "      <td>1.000000</td>\n",
       "    </tr>\n",
       "  </tbody>\n",
       "</table>\n",
       "</div>"
      ],
      "text/plain": [
       "                    Chronic_percentage  Acute_percentage\n",
       "Chronic_percentage            1.000000          0.213006\n",
       "Acute_percentage              0.213006          1.000000"
      ]
     },
     "execution_count": 65,
     "metadata": {},
     "output_type": "execute_result"
    }
   ],
   "source": [
    "hepatitis[['Chronic_percentage', 'Acute_percentage']].corr()"
   ]
  },
  {
   "cell_type": "code",
   "execution_count": 66,
   "metadata": {},
   "outputs": [
    {
     "data": {
      "text/plain": [
       "<Axes: xlabel='Chronic_percentage', ylabel='Acute_percentage'>"
      ]
     },
     "execution_count": 66,
     "metadata": {},
     "output_type": "execute_result"
    },
    {
     "data": {
      "image/png": "[encoded data removed]",
      "text/plain": [
       "<Figure size 640x480 with 1 Axes>"
      ]
     },
     "metadata": {},
     "output_type": "display_data"
    }
   ],
   "source": [
    "sns.scatterplot(x='Chronic_percentage', y='Acute_percentage', data=hepatitis)"
   ]
  },
  {
   "cell_type": "markdown",
   "metadata": {},
   "source": [
    "# We now proceed to create a Machine Learning model"
   ]
  }
 ],
 "metadata": {
  "kernelspec": {
   "display_name": "Python 3",
   "language": "python",
   "name": "python3"
  },
  "language_info": {
   "codemirror_mode": {
    "name": "ipython",
    "version": 3
   },
   "file_extension": ".py",
   "mimetype": "text/x-python",
   "name": "python",
   "nbconvert_exporter": "python",
   "pygments_lexer": "ipython3",
   "version": "3.12.2"
  }
 },
 "nbformat": 4,
 "nbformat_minor": 2
}
